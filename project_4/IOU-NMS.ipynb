{
 "cells": [
  {
   "cell_type": "code",
   "execution_count": 184,
   "metadata": {},
   "outputs": [],
   "source": [
    "import numpy as np\n",
    "import matplotlib.pyplot as plt\n",
    "from matplotlib.pyplot import imshow\n",
    "import matplotlib.patches as patches\n",
    "from PIL import Image,ImageDraw\n",
    "\n",
    "%matplotlib inline"
   ]
  },
  {
   "cell_type": "code",
   "execution_count": 194,
   "metadata": {
    "scrolled": true
   },
   "outputs": [],
   "source": [
    "def iouFun (image0,image1):\n",
    "    (r01,r02,confidence)=image0\n",
    "    (r11,r12,confidence)=image1\n",
    "    (x01,y01)=r01\n",
    "    (x02,y02)=r02\n",
    "    (x11,y11)=r11\n",
    "    (x12,y12)=r12\n",
    "    leftXPoint=np.where(x01>x11,x01,x11)\n",
    "    leftYPoint=np.where(y01>y11,y01,y11)   \n",
    "    rightXPoint=np.where(x02>x12,x12,x02)\n",
    "    rightYPoint=np.where(y02>y12,y12,y02)\n",
    "    size=(x02-x01)*(y02-y01)\n",
    "    size2=(x12-x11)*(y12-y11)\n",
    "    size3=(leftXPoint-rightXPoint)*(leftYPoint-rightYPoint)\n",
    "#     print(\"size:\",size)    \n",
    "#     print(\"size2:\",size2)\n",
    "#     print(\"size3:\",size3)\n",
    "    iou=size3/(size+size2-size3)\n",
    "    # print(\"iouFun:\",iou)\n",
    "    if iou<0:\n",
    "        return 0\n",
    "    return iou\n",
    "# 默认iou=0.3为同一类\n",
    "def nmsFun(defaultIou=0.3,*arg):\n",
    "    #存储移除的图象索引\n",
    "    index=[]\n",
    "    for i,(image0,image1,confidence) in enumerate(arg):\n",
    "        j=i+1\n",
    "        # 存在需要移除图象则即跳出循环\n",
    "        if i in enumerate(index):\n",
    "            break\n",
    "        #每次大循环前将maxConfidence至为0,lst存储Iou以及对应的图象,\n",
    "        maxConfidence=0\n",
    "        for _,(image0,image1,confidence) in enumerate(arg[j:]):\n",
    "             # 存在需要移除图象则即跳出循环\n",
    "            if j in enumerate(index):\n",
    "                break\n",
    "            newIou= iouFun(arg[i],arg[j])\n",
    "            if newIou < defaultIou:\n",
    "                maxConfidence=max(arg[i][2],arg[j][2])\n",
    "                #如果是最大的置信度则保留,相同分类中置信度小的添加到移除索引\n",
    "                if arg[i][2]==maxConfidence:\n",
    "                    index.append(j)\n",
    "                else:\n",
    "                    index.append(i)\n",
    "    index=list(set(index))\n",
    "    print(\"index:\",index)\n",
    "    lst=list(arg)\n",
    "    #根据需要移除的坐标删除数据\n",
    "    for index in sorted(index, reverse=True):\n",
    "        del lst[index]\n",
    "    return lst\n",
    "\n",
    "\n",
    "def pltFun(image0,img,imgName):\n",
    "    (r01,r02,confidence)=image0\n",
    "    (x01,y01)=r01\n",
    "    (x02,y02)=r02\n",
    "    \n",
    "    dr = ImageDraw.Draw(img)\n",
    "    (x01,y01)=r01  \n",
    "    (x02,y02)=r02\n",
    "    dr.rectangle(((x01,y01),(x02,y02)), fill=None, outline = 0)\n",
    "    img.save(imgName)\n",
    "    \n",
    "def createImage(imgName):\n",
    "    img = Image.new('RGB', (100, 100), color = (255,255,255))   \n",
    "    img.save(imgName)\n",
    "    return img\n"
   ]
  },
  {
   "cell_type": "code",
   "execution_count": 195,
   "metadata": {},
   "outputs": [
    {
     "data": {
      "text/plain": [
       "<matplotlib.image.AxesImage at 0x226e411400>"
      ]
     },
     "execution_count": 195,
     "metadata": {},
     "output_type": "execute_result"
    },
    {
     "data": {
      "image/png": "[encoded data removed]",
      "text/plain": [
       "<Figure size 432x288 with 1 Axes>"
      ]
     },
     "metadata": {
      "needs_background": "light"
     },
     "output_type": "display_data"
    }
   ],
   "source": [
    "# 创建图象坐标点\n",
    "image0_x=np.array((0,0))\n",
    "image0_y=np.array((5,5))\n",
    "image1_x=np.array((3,3))\n",
    "image1_y=np.array((10,10))\n",
    "image2_x=np.array((8,8))\n",
    "image2_y=np.array((13,13))\n",
    "image3_x=np.array((15,15))\n",
    "image3_y=np.array((30,30))\n",
    "image4_x=np.array((45,45))\n",
    "image4_y=np.array((66,66))\n",
    "image5_x=np.array((33,33))\n",
    "image5_y=np.array((77,77))\n",
    "image0=(image0_x,image0_y,0.7)\n",
    "image1=(image1_x,image1_y,0.8)\n",
    "image2=(image2_x,image2_y,0.65)\n",
    "image3=(image3_x,image3_y,0.8)\n",
    "image4=(image4_x,image4_y,0.6)\n",
    "image5=(image5_x,image5_y,0.7)\n",
    "# 创建图片\n",
    "imgName=\"rectangle.png\"\n",
    "img=createImage(imgName)\n",
    "#进行画图\n",
    "pltFun(image0,img,imgName)\n",
    "pltFun(image1,img,imgName)\n",
    "pltFun(image2,img,imgName)\n",
    "pltFun(image3,img,imgName)\n",
    "pltFun(image4,img,imgName)\n",
    "pltFun(image5,img,imgName)\n",
    "\n",
    "#显示图片\n",
    "pil_im = Image.open(imgName, 'r')\n",
    "imshow(np.asarray(pil_im))\n",
    "\n",
    "#计算IOU\n",
    "# print(\"IOU:\",iouFun(image0,image1))\n",
    "# print(\"IOU3:\",iouFun(image0,image5))\n",
    "\n"
   ]
  },
  {
   "cell_type": "code",
   "execution_count": 206,
   "metadata": {},
   "outputs": [
    {
     "name": "stdout",
     "output_type": "stream",
     "text": [
      "index: [2, 4]\n"
     ]
    },
    {
     "data": {
      "text/plain": [
       "<matplotlib.image.AxesImage at 0x226eb4a710>"
      ]
     },
     "execution_count": 206,
     "metadata": {},
     "output_type": "execute_result"
    },
    {
     "data": {
      "image/png": "[encoded data removed]",
      "text/plain": [
       "<Figure size 432x288 with 1 Axes>"
      ]
     },
     "metadata": {
      "needs_background": "light"
     },
     "output_type": "display_data"
    }
   ],
   "source": [
    "# 创建图片\n",
    "imgName2=\"rectangle2.png\"\n",
    "img2=createImage(imgName2)\n",
    "res=nmsFun(0.3,image0,image1,image2,image3,image4,image5)\n",
    "# #进行画图\n",
    "for i in range(len(res)):\n",
    "    image0=(res[i][0],res[i][1],res[i][2])\n",
    "    pltFun(image0,img2,imgName2)\n",
    "#显示图片\n",
    "pil_im2 = Image.open(imgName2, 'r')\n",
    "imshow(np.asarray(pil_im2))"
   ]
  },
  {
   "cell_type": "code",
   "execution_count": null,
   "metadata": {},
   "outputs": [],
   "source": []
  }
 ],
 "metadata": {
  "kernelspec": {
   "display_name": "Python 3",
   "language": "python",
   "name": "python3"
  },
  "language_info": {
   "codemirror_mode": {
    "name": "ipython",
    "version": 3
   },
   "file_extension": ".py",
   "mimetype": "text/x-python",
   "name": "python",
   "nbconvert_exporter": "python",
   "pygments_lexer": "ipython3",
   "version": "3.7.3"
  }
 },
 "nbformat": 4,
 "nbformat_minor": 2
}
